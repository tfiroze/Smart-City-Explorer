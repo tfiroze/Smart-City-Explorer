{
 "cells": [
  {
   "cell_type": "markdown",
   "id": "a92ff322",
   "metadata": {},
   "source": [
    "load model"
   ]
  },
  {
   "cell_type": "code",
   "execution_count": 1,
   "id": "8f779e70",
   "metadata": {},
   "outputs": [
    {
     "ename": "ValueError",
     "evalue": "could not convert string to float: '--ip=127.0.0.1'",
     "output_type": "error",
     "traceback": [
      "\u001b[1;31m---------------------------------------------------------------------------\u001b[0m",
      "\u001b[1;31mValueError\u001b[0m                                Traceback (most recent call last)",
      "Cell \u001b[1;32mIn[1], line 10\u001b[0m\n\u001b[0;32m      8\u001b[0m \u001b[39m# turn the value from string to float\u001b[39;00m\n\u001b[0;32m      9\u001b[0m substrings \u001b[39m=\u001b[39m params[\u001b[39m0\u001b[39m]\u001b[39m.\u001b[39msplit(\u001b[39m'\u001b[39m\u001b[39m,\u001b[39m\u001b[39m'\u001b[39m)\n\u001b[1;32m---> 10\u001b[0m pickup_hour \u001b[39m=\u001b[39m [\u001b[39mfloat\u001b[39m(hour) \u001b[39mfor\u001b[39;00m hour \u001b[39min\u001b[39;00m substrings]\n\u001b[0;32m     11\u001b[0m substrings \u001b[39m=\u001b[39m params[\u001b[39m1\u001b[39m]\u001b[39m.\u001b[39msplit(\u001b[39m'\u001b[39m\u001b[39m,\u001b[39m\u001b[39m'\u001b[39m)\n\u001b[0;32m     12\u001b[0m PULocationID \u001b[39m=\u001b[39m [\u001b[39mfloat\u001b[39m(location_id) \u001b[39mfor\u001b[39;00m location_id \u001b[39min\u001b[39;00m substrings]\n",
      "Cell \u001b[1;32mIn[1], line 10\u001b[0m, in \u001b[0;36m<listcomp>\u001b[1;34m(.0)\u001b[0m\n\u001b[0;32m      8\u001b[0m \u001b[39m# turn the value from string to float\u001b[39;00m\n\u001b[0;32m      9\u001b[0m substrings \u001b[39m=\u001b[39m params[\u001b[39m0\u001b[39m]\u001b[39m.\u001b[39msplit(\u001b[39m'\u001b[39m\u001b[39m,\u001b[39m\u001b[39m'\u001b[39m)\n\u001b[1;32m---> 10\u001b[0m pickup_hour \u001b[39m=\u001b[39m [\u001b[39mfloat\u001b[39;49m(hour) \u001b[39mfor\u001b[39;00m hour \u001b[39min\u001b[39;00m substrings]\n\u001b[0;32m     11\u001b[0m substrings \u001b[39m=\u001b[39m params[\u001b[39m1\u001b[39m]\u001b[39m.\u001b[39msplit(\u001b[39m'\u001b[39m\u001b[39m,\u001b[39m\u001b[39m'\u001b[39m)\n\u001b[0;32m     12\u001b[0m PULocationID \u001b[39m=\u001b[39m [\u001b[39mfloat\u001b[39m(location_id) \u001b[39mfor\u001b[39;00m location_id \u001b[39min\u001b[39;00m substrings]\n",
      "\u001b[1;31mValueError\u001b[0m: could not convert string to float: '--ip=127.0.0.1'"
     ]
    }
   ],
   "source": [
    "import pandas as pd\n",
    "import joblib\n",
    "import xgboost as xgb\n",
    "import sys\n",
    "\n",
    "params = sys.argv[1:]\n",
    "\n",
    "# turn the value from string to float\n",
    "substrings = params[0].split(',')\n",
    "pickup_hour = [float(hour) for hour in substrings]\n",
    "substrings = params[1].split(',')\n",
    "PULocationID = [float(location_id) for location_id in substrings]\n",
    "substrings = params[2].split(',')\n",
    "DOLocationID = [float(location_id) for location_id in substrings]\n",
    "\n",
    "# Load the models from a file\n",
    "fare_model = joblib.load('services/fare_model/best_fare_model.pkl')\n",
    "distance_model = xgb.Booster()\n",
    "distance_model.load_model('services/fare_model/distance_model.model')\n",
    "\n",
    "# data\n",
    "new_data = pd.DataFrame({\n",
    "    'pickup_hour': pickup_hour,\n",
    "    'PULocationID': PULocationID,\n",
    "    'DOLocationID': DOLocationID\n",
    "})\n",
    "\n",
    "# Make predictions\n",
    "fare_predictions = fare_model.predict(new_data)\n",
    "distance_predictions = distance_model.predict(xgb.DMatrix(new_data))\n",
    "\n",
    "# Print predictions\n",
    "print('Fare predictions:', fare_predictions)\n",
    "print('Distance predictions:', distance_predictions)\n",
    "\n"
   ]
  }
 ],
 "metadata": {
  "kernelspec": {
   "display_name": "Python 3",
   "language": "python",
   "name": "python3"
  },
  "language_info": {
   "codemirror_mode": {
    "name": "ipython",
    "version": 3
   },
   "file_extension": ".py",
   "mimetype": "text/x-python",
   "name": "python",
   "nbconvert_exporter": "python",
   "pygments_lexer": "ipython3",
   "version": "3.8.10"
  }
 },
 "nbformat": 4,
 "nbformat_minor": 5
}
