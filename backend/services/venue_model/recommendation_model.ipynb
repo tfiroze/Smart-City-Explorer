{
 "cells": [
  {
   "cell_type": "code",
   "execution_count": 37,
   "id": "9d16729c",
   "metadata": {},
   "outputs": [],
   "source": [
    "# import modules\n",
    "import pandas as pd\n",
    "import numpy as np\n",
    "import sqlalchemy as sqla\n",
    "import pickle\n",
    "from sqlalchemy import create_engine\n",
    "\n",
    "from sklearn.linear_model import LinearRegression\n",
    "from sklearn.metrics import mean_squared_error, mean_absolute_error, r2_score\n",
    "from sklearn.ensemble import RandomForestRegressor\n",
    "from xgboost import XGBRegressor\n",
    "from sklearn.model_selection import train_test_split\n",
    "from sklearn.model_selection import cross_val_score\n",
    "from sklearn import metrics\n",
    "\n",
    "import matplotlib.pyplot as plt\n",
    "import warnings\n",
    "warnings.filterwarnings(\"ignore\")\n",
    "\n",
    "import pymysql\n",
    "from sshtunnel import SSHTunnelForwarder\n",
    "from datetime import datetime, timedelta\n",
    "\n",
    "import spacy\n",
    "\n",
    "# Load pre-trained word embeddings (e.g., spaCy's medium English model)\n",
    "nlp = spacy.load(\"en_core_web_md\")"
   ]
  },
  {
   "cell_type": "code",
   "execution_count": 38,
   "id": "f0eb91b6",
   "metadata": {},
   "outputs": [],
   "source": [
    "ssh_host = '137.43.49.79'\n",
    "ssh_port = 22\n",
    "ssh_username = 'student'\n",
    "ssh_password = 'Ucd-cs-2023!'\n",
    "\n",
    "mysql_user = 'root'\n",
    "mysql_password = 'Group@18'\n",
    "mysql_db = 'smartcityexplorer'\n",
    "\n",
    "with SSHTunnelForwarder(\n",
    "    (ssh_host, ssh_port),\n",
    "    ssh_username=ssh_username,\n",
    "    ssh_password=ssh_password,\n",
    "    remote_bind_address=('127.0.0.1', 3306)\n",
    ") as tunnel:\n",
    "    conn = pymysql.connect(\n",
    "        host='127.0.0.1',\n",
    "        user=mysql_user,\n",
    "        password=mysql_password,\n",
    "        db=mysql_db,\n",
    "        port=tunnel.local_bind_port\n",
    "    )\n",
    "    \n",
    "    cursor = conn.cursor()\n",
    "    cursor.execute(\"SELECT * FROM venue_static\")\n",
    "    results = cursor.fetchall()\n",
    "\n",
    "    # Convert the results to a pandas DataFrame\n",
    "    import pandas as pd\n",
    "    df_venue_static = pd.DataFrame(results, columns=[column[0] for column in cursor.description])\n",
    "    \n",
    "    cursor = conn.cursor()\n",
    "    cursor.execute(\"SELECT * FROM venue_timings\")\n",
    "    results = cursor.fetchall()\n",
    "    df_venue_timings = pd.DataFrame(results, columns=[column[0] for column in cursor.description])\n",
    "\n",
    "    cursor = conn.cursor()\n",
    "    cursor.execute(\"SELECT * FROM venue_merged\")\n",
    "    results = cursor.fetchall()\n",
    "    df_venue_merged = pd.DataFrame(results, columns=[column[0] for column in cursor.description])    \n",
    "    \n",
    "    # Close the database connection\n",
    "    conn.close()"
   ]
  },
  {
   "cell_type": "code",
   "execution_count": 39,
   "id": "10775b7e",
   "metadata": {},
   "outputs": [],
   "source": [
    "df_venue_merged['merged_time'] = pd.to_datetime(df_venue_merged['merged_time'])\n",
    "\n",
    "# Add 'day_of_week' column (Monday as 0)\n",
    "df_venue_merged['day_of_week'] = df_venue_merged['merged_time'].dt.dayofweek\n",
    "\n",
    "# Add 'hour_integer' column\n",
    "df_venue_merged['hour_integer'] = df_venue_merged['merged_time'].dt.hour"
   ]
  },
  {
   "cell_type": "code",
   "execution_count": 40,
   "id": "e18f1e05",
   "metadata": {},
   "outputs": [],
   "source": [
    "venue_mapping = {\n",
    "    'PARK': 'Park',\n",
    "    'Tourist Destination': 'Tourist Destination',\n",
    "    'MUSEUM': 'Cultural Heritage',\n",
    "    'HISTORICAL':'Cultural Heritage',\n",
    "    'SCENIC_POINT': 'Scenic Landmarks',\n",
    "    'BRIDGE': 'Scenic Landmarks',\n",
    "    'NATURE_RESERVE': 'Nature Attractions',\n",
    "    'ZOO': 'Nature Attractions',\n",
    "    'BOTANICAL_GARDEN': 'Nature Attractions',\n",
    "    'ARTS': 'Art',\n",
    "    'DESSERT':'Art',\n",
    "    'CHURCH': 'Religious',\n",
    "    'SYNAGOGUE':'Religious',\n",
    "    'VISITOR_CENTER': 'Tourist Destination',\n",
    "    'LIBRARY':'Library',\n",
    "    'Shopping Center': 'Shopping Center',\n",
    "    'APPAREL':'Fashion Convenience',\n",
    "    'OTHER': 'Tourist Destination',\n",
    "    'SHOPPING': 'Fashion Convenience',\n",
    "    'CONVENIENCE_STORE':'Neighborhood Market',\n",
    "    'SUPERMARKET': 'Neighborhood Market',\n",
    "    'GROCERY':'Neighborhood Market',\n",
    "    'MARKET':'Neighborhood Market',\n",
    "    'GIFTS': 'Gifts & Souvenirs',\n",
    "    'SOUVENIR_SHOP':'Gifts & Souvenirs',\n",
    "    \n",
    "}\n",
    "\n",
    "df_venue_static['venue_mod_type'] = df_venue_static['venue_type'].replace(venue_mapping)"
   ]
  },
  {
   "cell_type": "code",
   "execution_count": 41,
   "id": "6651ea3f",
   "metadata": {},
   "outputs": [],
   "source": [
    "venue_zone_grouping = {\n",
    "    'Upper Manhattan': [128, 127, 243, 120, 244, 116, 42, 152, 41, 74, 75],\n",
    "    'Upper West Side': [166, 24, 151, 43, 238, 239, 143, 142],\n",
    "    'Upper East Side': [236,263, 262, 237, 141, 140 ],\n",
    "    'Chelsea/Greenwhich market':[246, 68, 186, 90, 100, 234, 158, 249, 113, 249],\n",
    "    'Lower Manhattan': [107, 224, 114, 211, 144, 148, 232, 231, 45, 13, 261, 209, 87, 88, 12 ],\n",
    "    'Midtown Manhattan': [50, 48, 230, 163, 161, 162, 229, 233, 164, 170, 137, 224, 107, 234]\n",
    "}\n"
   ]
  },
  {
   "cell_type": "code",
   "execution_count": 42,
   "id": "bc59c213",
   "metadata": {},
   "outputs": [],
   "source": [
    "# venue_zone_grouping dictionary\n",
    "venue_zone_grouping = {\n",
    "    'Upper Manhattan': [128, 127, 243, 120, 244, 116, 42, 152, 41, 74, 75],\n",
    "    'Upper West Side': [166, 24, 151, 43, 238, 239, 143, 142],\n",
    "    'Upper East Side': [236, 263, 262, 237, 141, 140],\n",
    "    'Chelsea/Greenwhich market': [246, 68, 186, 90, 100, 234, 158, 249, 113, 249],\n",
    "    'Lower Manhattan': [107, 224, 114, 211, 144, 148, 232, 231, 45, 13, 261, 209, 87, 88, 12],\n",
    "    'Midtown Manhattan': [50, 48, 230, 163, 161, 162, 229, 233, 164, 170, 137, 224, 107, 234],\n",
    "}\n",
    "\n",
    "# Function to map zone numbers to zone groups\n",
    "def map_zone_group(zone_number):\n",
    "    for zone_group, zone_numbers in venue_zone_grouping.items():\n",
    "        if zone_number in zone_numbers:\n",
    "            return zone_group\n",
    "    return 'Other'  # If zone number not found in the dictionary, assign 'Other'\n",
    "\n",
    "# Create the 'zone_group' column based on the mapping\n",
    "df_venue_static['zone_group'] = df_venue_static['zone_id'].apply(map_zone_group)\n"
   ]
  },
  {
   "cell_type": "code",
   "execution_count": 43,
   "id": "1b852085",
   "metadata": {},
   "outputs": [],
   "source": [
    "df_venue_static.to_csv('services/venue_model/zone_Grouping.csv', index=False)"
   ]
  },
  {
   "cell_type": "code",
   "execution_count": 44,
   "id": "d3f2309b",
   "metadata": {},
   "outputs": [],
   "source": [
    "unique_type_values = df_venue_static['venue_mod_type'].unique()"
   ]
  },
  {
   "cell_type": "code",
   "execution_count": 45,
   "id": "ae74f663",
   "metadata": {},
   "outputs": [],
   "source": [
    "specific_venue_types = ['Nature Attractions', 'Shopping Center', 'Tourist Destination', 'Cultural Heritage', 'Neighborhood Market', 'Fashion Convenience', 'Library', 'Scenic Landmarks', 'Art', 'Religious', 'Park', 'Gifts & Souvenirs']\n",
    "\n",
    "# Filter the DataFrame to only include rows with the specific venue types\n",
    "df_venue_static_att = df_venue_static[df_venue_static['venue_mod_type'].isin(specific_venue_types)]\n"
   ]
  },
  {
   "cell_type": "code",
   "execution_count": 46,
   "id": "ae435a97",
   "metadata": {},
   "outputs": [],
   "source": [
    "import sys\n",
    "\n",
    "params = sys.argv[1:]\n",
    "substrings = params[0].split(',')\n",
    "user_zone_input = substrings\n",
    "user_zone_input = [attraction.replace('_', ' ') for attraction in user_zone_input]\n",
    "\n",
    "substrings = params[1].split(',')\n",
    "user_input_attractions = substrings\n",
    "user_input_attractions = [attraction.replace('_', ' ') for attraction in user_input_attractions]\n"
   ]
  },
  {
   "cell_type": "code",
   "execution_count": 48,
   "id": "026be77c",
   "metadata": {},
   "outputs": [],
   "source": [
    "unique_type_values_att = df_venue_static_att['venue_mod_type'].unique()"
   ]
  },
  {
   "cell_type": "code",
   "execution_count": 49,
   "id": "2665846d",
   "metadata": {},
   "outputs": [],
   "source": [
    "if len(user_input_attractions) < 4:\n",
    "    x = 4 - len(user_input_attractions)\n",
    "    updated_list = [num for num in unique_type_values_att if num not in user_input_attractions]\n",
    "    \n",
    "    similarities = []\n",
    "    user_input_tag_embedding = nlp(user_input_attractions[0]).vector\n",
    "\n",
    "    for tag in updated_list:\n",
    "        tag_embedding = nlp(tag).vector\n",
    "        similarity = user_input_tag_embedding.dot(tag_embedding) / (np.linalg.norm(user_input_tag_embedding) * np.linalg.norm(tag_embedding))\n",
    "        similarities.append(similarity)\n",
    "\n",
    "    sorted_indices = np.argsort(similarities)[::-1]  # Descending order\n",
    "    most_similar_tags = [updated_list[i] for i in sorted_indices]\n",
    "    slice_most_similar_tags = most_similar_tags[0:x]\n",
    "    user_input_attractions = user_input_attractions + slice_most_similar_tags"
   ]
  },
  {
   "cell_type": "code",
   "execution_count": 50,
   "id": "afbad120",
   "metadata": {},
   "outputs": [],
   "source": [
    "priority_table = pd.DataFrame({\n",
    "    'Attraction': ['Parks', 'Tourist Destination', 'Cultural Heritage', 'Scenic Landmarks', 'Nature Attractions',\n",
    "                   'Religious', 'Art', 'Library', 'Shopping Center', 'Fashion Convenience',\n",
    "                   'Neighborhood Market', 'Gifts & Souvenirs'],\n",
    "    'Opening_Time': ['9:00 AM', '9:00 AM', '11:00 AM', '9:00 AM', '10:00 AM', '11:00 AM', '9:00 AM', '9:00 AM',\n",
    "                     '10:00 AM', '10:00 AM', '10:00 AM', '10:00 AM'],\n",
    "    'Closing_Time': ['6:00 PM', '6:00 PM', '5:00 PM', '1:00 AM', '4:00 PM', '5:00 PM', '5:00 PM', '7:00 PM',\n",
    "                     '6:00 PM', '6:00 PM', '6:00 PM', '6:00 PM']\n",
    "})\n",
    "\n",
    "\n",
    "# Filter priority table based on user's input\n",
    "filtered_priority = priority_table[priority_table['Attraction'].isin(user_input_attractions)]\n",
    "\n",
    "\n",
    "# Create the suggested itinerary\n",
    "itinerary = {}\n",
    "current_date_time = datetime.now()\n",
    "\n",
    "# Get the current date\n",
    "current_date = current_date_time.date()\n",
    "\n",
    "current_time = pd.Timestamp(f\"{current_date} 9:00 AM\")\n",
    "for index, row in filtered_priority.iterrows():\n",
    "    attraction = row['Attraction']\n",
    "    start_time = pd.Timestamp(row['Opening_Time'])\n",
    "    end_time = pd.Timestamp(row['Closing_Time'])\n",
    "    \n",
    "    # Check if the attraction can be visited within the day (9 AM to 7 PM)\n",
    "    if end_time <= pd.Timestamp(f\"{current_date} 7:00 PM\") and current_time <= pd.Timestamp(f\"{current_date} 7:00 PM\"):\n",
    "        # Handle the break from 1 am to 3 am\n",
    "        if current_time.hour == 1:\n",
    "            current_time = pd.Timestamp(f\"{current_date} 3:00 AM\")\n",
    "        # Calculate the visit duration for the attraction\n",
    "        visit_duration = min(2, (end_time - current_time).seconds / 3600)\n",
    "        # Check if the visit exceeds the closing time (7 PM)\n",
    "        if current_time + pd.Timedelta(hours=visit_duration) <= pd.Timestamp(f\"{current_date} 7:00 PM\"):\n",
    "            itinerary[attraction] = f\"{current_time.strftime('%I:%M %p')} - {(current_time + pd.Timedelta(hours=visit_duration)).strftime('%I:%M %p')}\"\n",
    "            current_time += pd.Timedelta(hours=visit_duration)\n",
    "        else:\n",
    "            break  # Stop adding attractions once it exceeds the closing time\n",
    "\n",
    "# Print the suggested itinerary\n",
    "itinerary_timing = []\n",
    "opening_time = [9,11,15,17]\n",
    "closing_time = [11,15,17,19]\n",
    "for attraction, timing in itinerary.items():\n",
    "    itinerary_timing.append(attraction)"
   ]
  },
  {
   "cell_type": "code",
   "execution_count": 51,
   "id": "47262a03",
   "metadata": {},
   "outputs": [],
   "source": [
    "zone_group = []\n",
    "for group in user_zone_input:\n",
    "    for zone in venue_zone_grouping[group]:\n",
    "        zone_group.append(zone)"
   ]
  },
  {
   "cell_type": "code",
   "execution_count": 52,
   "id": "9d6eccb2",
   "metadata": {
    "scrolled": true
   },
   "outputs": [],
   "source": [
    "venue_type_dict = {}\n",
    "for venue_type in itinerary_timing:\n",
    "    matched_zones = df_venue_static_att[df_venue_static_att['venue_mod_type'] == venue_type]['original_ven_id'].unique()\n",
    "    venue_type_dict[venue_type] = list(matched_zones)\n"
   ]
  },
  {
   "cell_type": "code",
   "execution_count": 53,
   "id": "c2043fbb",
   "metadata": {},
   "outputs": [],
   "source": [
    "time_index = 0\n",
    "filtered_venues = {}\n",
    "\n",
    "# Loop through each venue type and check for the specified condition\n",
    "for venue_type, venue_ids in venue_type_dict.items():\n",
    "    valid_venues = []\n",
    "    for venue_id in venue_ids:\n",
    "        venue_info = df_venue_timings.loc[df_venue_timings['venue_id'] == venue_id]\n",
    "        filtered_venue_info = venue_info.loc[(venue_info['day'] == 6) & (venue_info['opening_time'] <= opening_time[time_index]) \n",
    "#                                              & (venue_info['closing_time'] >= closing_time[time_index])\n",
    "                                            ]\n",
    "        if not filtered_venue_info.empty:\n",
    "            valid_venues.append(venue_id)\n",
    "    if valid_venues:\n",
    "        filtered_venues[venue_type] = valid_venues\n",
    "        time_index+=1"
   ]
  },
  {
   "cell_type": "code",
   "execution_count": 54,
   "id": "11fb87b2",
   "metadata": {},
   "outputs": [],
   "source": [
    "manipulated_venues = {}\n",
    "\n",
    "# Loop through each venue type and check for the specified condition\n",
    "for venue_type, venue_ids in venue_type_dict.items():\n",
    "    valid_venues = []\n",
    "    for venue_id in venue_ids:\n",
    "        venue_hash_id = df_venue_static.loc[df_venue_static['original_ven_id'] == venue_id]['hash_ven_id']\n",
    "        venue_rating = df_venue_static.loc[df_venue_static['original_ven_id'] == venue_id]['rating'].item()\n",
    "        venue_hash_id = int(venue_hash_id)\n",
    "        df_venue_merged['venue_id'] = df_venue_merged['venue_id'].astype(int)\n",
    "        specific_venue_df = df_venue_merged.loc[df_venue_merged['venue_id'] == venue_hash_id]\n",
    "        average_busyness = specific_venue_df['busyness'].mean() \n",
    "        \n",
    "        weight_rating = 0.6\n",
    "        weight_busyness = 0.4\n",
    "        composite_score = (weight_rating * venue_rating) + (weight_busyness * average_busyness)\n",
    "        \n",
    "        \n",
    "        valid_venues.append((venue_id, venue_rating, average_busyness, composite_score))\n",
    "    if valid_venues:\n",
    "        manipulated_venues[venue_type] = valid_venues"
   ]
  },
  {
   "cell_type": "code",
   "execution_count": 55,
   "id": "8b5d668e",
   "metadata": {},
   "outputs": [
    {
     "name": "stdout",
     "output_type": "stream",
     "text": [
      "Venue Type: Tourist Destination\n",
      "Rank 1: Venue ID: ven_6f705548536a3470353159526b6f7759527168733451624a496843, Rating: 4.1, Busyness: 42.07575757575758, Score: 19.290303030303033\n",
      "Rank 2: Venue ID: ven_346c6843676c5559377662526b6f775a354f49314937644a496843, Rating: 4.5, Busyness: 41.43181818181818, Score: 19.272727272727273\n",
      "Rank 3: Venue ID: ven_454e4e686e4a7046453659526b6f775a6c3673525158614a496843, Rating: 4.7, Busyness: 40.18181818181818, Score: 18.892727272727274\n",
      "\n",
      "Venue Type: Nature Attractions\n",
      "Rank 1: Venue ID: ven_386953773374434b6b5269526b6f7732547950655a52534a496843, Rating: 4.7, Busyness: 17.325757575757574, Score: 9.75030303030303\n",
      "Rank 2: Venue ID: ven_4d457a4474397179337835526b6f7759704a46752d77734a496843, Rating: 4.7, Busyness: 13.901515151515152, Score: 8.38060606060606\n",
      "Rank 3: Venue ID: ven_5532317551593261384446526b6f775946505f576a57614a496843, Rating: 4.4, Busyness: 13.136363636363637, Score: 7.8945454545454545\n",
      "\n",
      "Venue Type: Shopping Center\n",
      "Rank 1: Venue ID: ven_415a37545a367078557066526b6f775a5a6271774a626e4a496843, Rating: 4.6, Busyness: 33.333333333333336, Score: 16.093333333333334\n",
      "Rank 2: Venue ID: ven_67726a544b332d45634264526b6f77595a5f4c735033704a496843, Rating: 4.4, Busyness: 32.494089834515364, Score: 15.637635933806147\n",
      "Rank 3: Venue ID: ven_67786f6559776463355574526b6f77326a414755372d7a4a496843, Rating: 4.3, Busyness: 31.856060606060606, Score: 15.322424242424242\n",
      "\n",
      "Venue Type: Fashion Convenience\n",
      "Rank 1: Venue ID: ven_6f594839656b4567743841526b6f775a52616c495f54304a496843, Rating: 4.0, Busyness: 36.0, Score: 16.8\n",
      "Rank 2: Venue ID: ven_51683176714b3744615056526b6f77597862375f6b576f4a496843, Rating: 4.0, Busyness: 28.204545454545453, Score: 13.681818181818182\n",
      "Rank 3: Venue ID: ven_517636454b535639515037526b6f775968566f6c767a4a4a496843, Rating: 4.2, Busyness: 27.40909090909091, Score: 13.483636363636364\n",
      "\n",
      "{'Tourist Destination': [('ven_6f705548536a3470353159526b6f7759527168733451624a496843', 4.1, 42.07575757575758, 19.290303030303033), ('ven_346c6843676c5559377662526b6f775a354f49314937644a496843', 4.5, 41.43181818181818, 19.272727272727273), ('ven_454e4e686e4a7046453659526b6f775a6c3673525158614a496843', 4.7, 40.18181818181818, 18.892727272727274)], 'Nature Attractions': [('ven_386953773374434b6b5269526b6f7732547950655a52534a496843', 4.7, 17.325757575757574, 9.75030303030303), ('ven_4d457a4474397179337835526b6f7759704a46752d77734a496843', 4.7, 13.901515151515152, 8.38060606060606), ('ven_5532317551593261384446526b6f775946505f576a57614a496843', 4.4, 13.136363636363637, 7.8945454545454545)], 'Shopping Center': [('ven_415a37545a367078557066526b6f775a5a6271774a626e4a496843', 4.6, 33.333333333333336, 16.093333333333334), ('ven_67726a544b332d45634264526b6f77595a5f4c735033704a496843', 4.4, 32.494089834515364, 15.637635933806147), ('ven_67786f6559776463355574526b6f77326a414755372d7a4a496843', 4.3, 31.856060606060606, 15.322424242424242)], 'Fashion Convenience': [('ven_6f594839656b4567743841526b6f775a52616c495f54304a496843', 4.0, 36.0, 16.8), ('ven_51683176714b3744615056526b6f77597862375f6b576f4a496843', 4.0, 28.204545454545453, 13.681818181818182), ('ven_517636454b535639515037526b6f775968566f6c767a4a4a496843', 4.2, 27.40909090909091, 13.483636363636364)]}\n"
     ]
    }
   ],
   "source": [
    "top_3_venues = {}\n",
    "\n",
    "# Loop through each venue type and its venues\n",
    "for venue_type, venue_data in manipulated_venues.items():\n",
    "    # Sort the venues based on the composite score (fourth element in the tuple, index 3)\n",
    "    if len(venue_data) > 3:\n",
    "        sorted_venues = sorted(venue_data, key=lambda x: x[3], reverse=True)\n",
    "    \n",
    "        # Keep only the top 3 venues for each venue type\n",
    "        top_3_venues[venue_type] = sorted_venues[:3]\n",
    "    else:\n",
    "        top_3_venues[venue_type] = venue_data\n",
    "\n",
    "# Display the top 3 venues for each venue type\n",
    "# for venue_type, top_venues in top_3_venues.items():\n",
    "#     print(f\"Venue Type: {venue_type}\")\n",
    "#     for rank, (venue_id, rating, busyness, score) in enumerate(top_venues, start=1):\n",
    "#         print(f\"Rank {rank}: Venue ID: {venue_id}, Rating: {rating}, Busyness: {busyness}, Score: {score}\")\n",
    "#     print()\n",
    "    \n",
    "print(top_3_venues)"
   ]
  }
 ],
 "metadata": {
  "kernelspec": {
   "display_name": "Python 3 (ipykernel)",
   "language": "python",
   "name": "python3"
  },
  "language_info": {
   "codemirror_mode": {
    "name": "ipython",
    "version": 3
   },
   "file_extension": ".py",
   "mimetype": "text/x-python",
   "name": "python",
   "nbconvert_exporter": "python",
   "pygments_lexer": "ipython3",
   "version": "3.8.10"
  },
  "varInspector": {
   "cols": {
    "lenName": 16,
    "lenType": 16,
    "lenVar": 40
   },
   "kernels_config": {
    "python": {
     "delete_cmd_postfix": "",
     "delete_cmd_prefix": "del ",
     "library": "var_list.py",
     "varRefreshCmd": "print(var_dic_list())"
    },
    "r": {
     "delete_cmd_postfix": ") ",
     "delete_cmd_prefix": "rm(",
     "library": "var_list.r",
     "varRefreshCmd": "cat(var_dic_list()) "
    }
   },
   "types_to_exclude": [
    "module",
    "function",
    "builtin_function_or_method",
    "instance",
    "_Feature"
   ],
   "window_display": false
  }
 },
 "nbformat": 4,
 "nbformat_minor": 5
}
